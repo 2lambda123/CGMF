{
 "cells": [
  {
   "cell_type": "markdown",
   "metadata": {},
   "source": [
    "# Analyzing Prompt Neutrons"
   ]
  },
  {
   "cell_type": "code",
   "execution_count": 1,
   "metadata": {},
   "outputs": [
    {
     "name": "stdout",
     "output_type": "stream",
     "text": [
      "Populating the interactive namespace from numpy and matplotlib\n"
     ]
    }
   ],
   "source": [
    "### initializations and import libraries\n",
    "import numpy as np\n",
    "import matplotlib.pyplot as plt\n",
    "import matplotlib.gridspec as gridspec\n",
    "%matplotlib inline\n",
    "%pylab inline\n",
    "\n",
    "from CGMFtk import histories as fh"
   ]
  },
  {
   "cell_type": "code",
   "execution_count": 16,
   "metadata": {},
   "outputs": [
    {
     "name": "stdout",
     "output_type": "stream",
     "text": [
      "Matplotbib Version:  3.1.3\n"
     ]
    }
   ],
   "source": [
    "### rcParams are the default parameters for matplotlib\n",
    "import matplotlib as mpl\n",
    "\n",
    "print (\"Matplotbib Version: \", mpl.__version__)\n",
    "\n",
    "mpl.rcParams['font.size'] = 18\n",
    "mpl.rcParams['font.family'] = 'Helvetica', 'serif'\n",
    "#mpl.rcParams['font.color'] = 'darkred'\n",
    "mpl.rcParams['font.weight'] = 'normal'\n",
    "\n",
    "mpl.rcParams['axes.labelsize'] = 18.\n",
    "mpl.rcParams['xtick.labelsize'] = 18.\n",
    "mpl.rcParams['ytick.labelsize'] = 18.\n",
    "mpl.rcParams['lines.linewidth'] = 2.\n",
    "\n",
    "font = {'family' : 'serif',\n",
    "        'color'  : 'darkred',\n",
    "        'weight' : 'normal',\n",
    "        'size'   : 18,\n",
    "        }\n",
    "\n",
    "mpl.rcParams['xtick.major.pad']='10'\n",
    "mpl.rcParams['ytick.major.pad']='10'\n",
    "\n",
    "mpl.rcParams['image.cmap'] = 'inferno'"
   ]
  },
  {
   "cell_type": "markdown",
   "metadata": {},
   "source": [
    "First we load in the history file"
   ]
  },
  {
   "cell_type": "code",
   "execution_count": 2,
   "metadata": {},
   "outputs": [],
   "source": [
    "hist = fh.Histories('98252sf.cgmf')"
   ]
  },
  {
   "cell_type": "markdown",
   "metadata": {},
   "source": [
    "Many average quantities for the pre-fission and prompt neutrons can be calculated using the histories class"
   ]
  },
  {
   "cell_type": "code",
   "execution_count": 3,
   "metadata": {},
   "outputs": [
    {
     "name": "stdout",
     "output_type": "stream",
     "text": [
      "nubar (per fission event) =  3.817616\n",
      "average number of neutrons per fragment =  1.908808\n"
     ]
    }
   ],
   "source": [
    "# the average neutron multiplicity\n",
    "print ('nubar (per fission event) = ',hist.nubartot())\n",
    "print ('average number of neutrons per fragment = ',hist.nubar())"
   ]
  },
  {
   "cell_type": "markdown",
   "metadata": {},
   "source": [
    "Or we might want a list of the multiplicity of each event"
   ]
  },
  {
   "cell_type": "code",
   "execution_count": 7,
   "metadata": {},
   "outputs": [
    {
     "name": "stdout",
     "output_type": "stream",
     "text": [
      "[4 3 6 5 4 3 3 3 4 4]\n"
     ]
    }
   ],
   "source": [
    "nu = hist.getNutot()\n",
    "print (nu[:10])\n",
    "# hist.getNu() pulls the multiplicity for each fission fragment\n",
    "# hist.getNuEvent() pulls the multiplicity for each event, not including pre-fission neutrons"
   ]
  },
  {
   "cell_type": "markdown",
   "metadata": {},
   "source": [
    "Neutron energies in both the center of mass (of the compound nucleus) and the laboratory frame are available"
   ]
  },
  {
   "cell_type": "code",
   "execution_count": 8,
   "metadata": {},
   "outputs": [],
   "source": [
    "Elab = hist.getNeutronElab()\n",
    "Ecm = hist.getNeutronEcm()"
   ]
  },
  {
   "cell_type": "markdown",
   "metadata": {},
   "source": [
    "These two functions provide a list of lists of neutron energies for each fragment.  Typically, more manipulation will be required to use these values for plotting.  For example, if we want to plot the neutron multiplicity and the total neutron energy of each event:"
   ]
  },
  {
   "cell_type": "code",
   "execution_count": 13,
   "metadata": {},
   "outputs": [],
   "source": [
    "Elabtot = []\n",
    "ElabEvent = Elab[::2]+Elab[1::2]\n",
    "for x in ElabEvent:\n",
    "    Elabtot.append(np.sum(x))"
   ]
  },
  {
   "cell_type": "code",
   "execution_count": 14,
   "metadata": {},
   "outputs": [
    {
     "name": "stdout",
     "output_type": "stream",
     "text": [
      "500000\n",
      "500000\n"
     ]
    }
   ],
   "source": [
    "print (len(nu))\n",
    "print (len(Elabtot))"
   ]
  },
  {
   "cell_type": "code",
   "execution_count": 17,
   "metadata": {},
   "outputs": [
    {
     "data": {
      "image/png": "[encoded data removed]",
      "text/plain": [
       "<Figure size 576x432 with 1 Axes>"
      ]
     },
     "metadata": {
      "needs_background": "light"
     },
     "output_type": "display_data"
    }
   ],
   "source": [
    "fig = plt.figure(figsize=(8,6))\n",
    "bx = np.arange(min(nu),max(nu)+1)\n",
    "by = np.arange(min(Elabtot),max(Elabtot)+1)\n",
    "\n",
    "plt.hist2d(nu,Elabtot,bins=(bx,by))\n",
    "plt.xlabel('Neutron Multiplicity')\n",
    "plt.ylabel('Total Neutron Energy (MeV)')\n",
    "plt.show()"
   ]
  },
  {
   "cell_type": "markdown",
   "metadata": {},
   "source": [
    "There are also routines to calculate the neutron average energies"
   ]
  },
  {
   "cell_type": "code",
   "execution_count": 19,
   "metadata": {},
   "outputs": [
    {
     "name": "stdout",
     "output_type": "stream",
     "text": [
      "Neutron energies in the lab:\n",
      "Average energy of all neutrons =  2.077427439009056\n",
      "Average energy of neutrons from fragments =  2.077427439009056\n",
      "Average energy of neutrons from light fragment =  2.3293141780172957\n",
      "Average energy of neutrons from heavy fragment =  1.7574275095987781\n",
      " \n",
      "Neutron energies in the center of mass:\n",
      "Average energy of neutrons from fragments =  1.3025117701727997\n",
      "Average energy of neutrons from light fragment =  1.3719594663675614\n",
      "Average energy of neutrons from heavy fragment =  1.2142845853375386\n"
     ]
    }
   ],
   "source": [
    "# average neutron energies\n",
    "print ('Neutron energies in the lab:')\n",
    "print ('Average energy of all neutrons = ',hist.meanNeutronElab())\n",
    "print ('Average energy of neutrons from fragments = ',hist.meanNeutronElabFragments())\n",
    "print ('Average energy of neutrons from light fragment = ',hist.meanNeutronElabLF())\n",
    "print ('Average energy of neutrons from heavy fragment = ',hist.meanNeutronElabHF())\n",
    "print (' ')\n",
    "print ('Neutron energies in the center of mass:')\n",
    "print ('Average energy of neutrons from fragments = ',hist.meanNeutronEcmFragments())\n",
    "print ('Average energy of neutrons from light fragment = ',hist.meanNeutronEcmLF())\n",
    "print ('Average energy of neutrons from heavy fragment = ',hist.meanNeutronEcmHF())"
   ]
  },
  {
   "cell_type": "code",
   "execution_count": null,
   "metadata": {},
   "outputs": [],
   "source": []
  }
 ],
 "metadata": {
  "kernelspec": {
   "display_name": "Python 3",
   "language": "python",
   "name": "python3"
  },
  "language_info": {
   "codemirror_mode": {
    "name": "ipython",
    "version": 3
   },
   "file_extension": ".py",
   "mimetype": "text/x-python",
   "name": "python",
   "nbconvert_exporter": "python",
   "pygments_lexer": "ipython3",
   "version": "3.7.6"
  }
 },
 "nbformat": 4,
 "nbformat_minor": 4
}
